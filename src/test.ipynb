{
 "cells": [
  {
   "cell_type": "code",
   "execution_count": 1,
   "metadata": {},
   "outputs": [],
   "source": [
    "from ucimlrepo import fetch_ucirepo, list_available_datasets"
   ]
  },
  {
   "cell_type": "code",
   "execution_count": 2,
   "metadata": {},
   "outputs": [
    {
     "name": "stdout",
     "output_type": "stream",
     "text": [
      "-------------------------------------\n",
      "The following datasets are available:\n",
      "-------------------------------------\n",
      "Dataset Name                                       ID     Description                                                                                         \n",
      "------------                                       --     -----------                                                                                         \n",
      "Sepsis Survival Minimal Clinical Records           827    Predict survival status for sepsis patients                                                         \n",
      "Diabetes 130-US hospitals for years 1999-2008      296    Predict hospital readmission for diabetic patients                                                  \n",
      "Diabetic Retinopathy Debrecen                      329    Diabetic retinopathy detection from image data                                                      \n",
      "Thoracic Surgery Data                              277    Predict survival status after thoracic surgery                                                      \n",
      "Myocardial Infarction Complications                579    Predict myocardial infarction complications                                                         \n",
      "Parkinsons Telemonitoring                          189    Predict clinician scores for Parkinson's disease                                                    \n",
      "Heart Disease                                      45     Predict presence/absence of heart disease                                                           \n",
      "Hepatitis C Virus (HCV) for Egyptian patients      503    Predict degree of liver fibrosis                                                                    \n",
      "Glioma Grading Clinical and Mutation Features      759    Predict the type of a patient's glioma tumor                                                        \n"
     ]
    }
   ],
   "source": [
    "list_available_datasets()"
   ]
  },
  {
   "cell_type": "code",
   "execution_count": 4,
   "metadata": {},
   "outputs": [
    {
     "name": "stdout",
     "output_type": "stream",
     "text": [
      "        age_years  sex_0male_1female  episode_number  \\\n",
      "0              21                  1               1   \n",
      "1              20                  1               1   \n",
      "2              21                  1               1   \n",
      "3              77                  0               1   \n",
      "4              72                  0               1   \n",
      "...           ...                ...             ...   \n",
      "110336         47                  0               1   \n",
      "110337         50                  0               1   \n",
      "110338         62                  0               1   \n",
      "110339         58                  0               1   \n",
      "110340         55                  1               1   \n",
      "\n",
      "        hospital_outcome_1alive_0dead  \n",
      "0                                   1  \n",
      "1                                   1  \n",
      "2                                   1  \n",
      "3                                   1  \n",
      "4                                   1  \n",
      "...                               ...  \n",
      "110336                              1  \n",
      "110337                              0  \n",
      "110338                              1  \n",
      "110339                              0  \n",
      "110340                              1  \n",
      "\n",
      "[110341 rows x 4 columns]\n",
      "[]\n",
      "['age_years', 'sex_0male_1female', 'episode_number']\n",
      "['hospital_outcome_1alive_0dead']\n",
      "                            name     role     type demographic description  \\\n",
      "0                      age_years  Feature  Integer        None        None   \n",
      "1              sex_0male_1female  Feature   Binary        None        None   \n",
      "2                 episode_number  Feature  Integer        None        None   \n",
      "3  hospital_outcome_1alive_0dead   Target   Binary        None        None   \n",
      "\n",
      "  units missing_values  \n",
      "0  None             no  \n",
      "1  None             no  \n",
      "2  None             no  \n",
      "3  None             no  \n"
     ]
    }
   ],
   "source": [
    "sepsis = fetch_ucirepo(id=827)"
   ]
  },
  {
   "cell_type": "code",
   "execution_count": 5,
   "metadata": {},
   "outputs": [
    {
     "data": {
      "text/plain": [
       "{'uci_id': 827,\n",
       " 'name': 'Sepsis Survival Minimal Clinical Records',\n",
       " 'abstract': 'This dataset collection contains minimal health records of 110,204 admissions (primary cohort), 19,051 admissions (study cohort), and 137 admissions (validation cohort) of patients who had sepsis.',\n",
       " 'area': 'Life Science',\n",
       " 'tasks': ['Classification'],\n",
       " 'characteristics': ['Multivariate'],\n",
       " 'num_instances': 110341,\n",
       " 'num_features': 3,\n",
       " 'attribute_types': ['Integer'],\n",
       " 'target_col': ['hospital_outcome_1alive_0dead'],\n",
       " 'index_col': None,\n",
       " 'has_missing_values': 'no',\n",
       " 'missing_values_symbol': None,\n",
       " 'year_of_dataset_creation': 2020,\n",
       " 'dataset_doi': '10.24432/C53C8N',\n",
       " 'creators': ['Davide Chicco', 'Giuseppe Jurman'],\n",
       " 'intro_paper': {'title': 'Survival prediction of patients with sepsis from age, sex, and septic episode number alone',\n",
       "  'authors': 'D. Chicco, Giuseppe Jurman',\n",
       "  'published_in': 'Scientific Reports',\n",
       "  'year': 2020,\n",
       "  'url': 'https://www.semanticscholar.org/paper/423a47a81777e46430b6ae463e3f39574bfa780d',\n",
       "  'doi': None},\n",
       " 'repository_url': 'https://archive.ics.uci.edu/dataset/827/sepsis+survival+minimal+clinical+records',\n",
       " 'data_url': 'https://archive.ics.uci.edu/static/public/827/data.csv',\n",
       " 'additional_info': {'summary': \"Primary cohort from Norway:\\n4 features for 110,204 patient admissions\\nfile: 's41598-020-73558-3_sepsis_survival_primary_cohort.csv'\\n\\nStudy cohort (subset of the primary cohort) from Norway:\\n4 features for 19,051 patient admissions\\nfile: 's41598-020-73558-3_sepsis_survival_study_cohort.csv'\\n\\nValidation cohort from South Korea:\\n4 features for 137 patients\\nfile: 's41598-020-73558-3_sepsis_survival_validation_cohort.csv'\",\n",
       "  'purpose': None,\n",
       "  'funded_by': None,\n",
       "  'instances_represent': None,\n",
       "  'recommended_data_splits': None,\n",
       "  'sensitive_data': None,\n",
       "  'preprocessing_description': None,\n",
       "  'software_available': None,\n",
       "  'used_for': None,\n",
       "  'attribute_info': 'Four (4) clinical features:\\n- age_years: integer\\n- sex_0male_1female: binary\\n- episode_number: integer\\n- hospital_outcome_1alive_0dead: boolean',\n",
       "  'citation': 'Davide Chicco, Giuseppe Jurman, â€œSurvival prediction of patients with sepsis from age, sex, and septic episode number aloneâ€\\x9d. Scientific Reports 10, 17156 (2020)'}}"
      ]
     },
     "execution_count": 5,
     "metadata": {},
     "output_type": "execute_result"
    }
   ],
   "source": [
    "sepsis.metadata"
   ]
  },
  {
   "cell_type": "code",
   "execution_count": 7,
   "metadata": {},
   "outputs": [
    {
     "data": {
      "text/plain": [
       "{'ids': None,\n",
       " 'features':         age_years  sex_0male_1female  episode_number\n",
       " 0              21                  1               1\n",
       " 1              20                  1               1\n",
       " 2              21                  1               1\n",
       " 3              77                  0               1\n",
       " 4              72                  0               1\n",
       " ...           ...                ...             ...\n",
       " 110336         47                  0               1\n",
       " 110337         50                  0               1\n",
       " 110338         62                  0               1\n",
       " 110339         58                  0               1\n",
       " 110340         55                  1               1\n",
       " \n",
       " [110341 rows x 3 columns],\n",
       " 'targets':         hospital_outcome_1alive_0dead\n",
       " 0                                   1\n",
       " 1                                   1\n",
       " 2                                   1\n",
       " 3                                   1\n",
       " 4                                   1\n",
       " ...                               ...\n",
       " 110336                              1\n",
       " 110337                              0\n",
       " 110338                              1\n",
       " 110339                              0\n",
       " 110340                              1\n",
       " \n",
       " [110341 rows x 1 columns],\n",
       " 'original':         age_years  sex_0male_1female  episode_number  \\\n",
       " 0              21                  1               1   \n",
       " 1              20                  1               1   \n",
       " 2              21                  1               1   \n",
       " 3              77                  0               1   \n",
       " 4              72                  0               1   \n",
       " ...           ...                ...             ...   \n",
       " 110336         47                  0               1   \n",
       " 110337         50                  0               1   \n",
       " 110338         62                  0               1   \n",
       " 110339         58                  0               1   \n",
       " 110340         55                  1               1   \n",
       " \n",
       "         hospital_outcome_1alive_0dead  \n",
       " 0                                   1  \n",
       " 1                                   1  \n",
       " 2                                   1  \n",
       " 3                                   1  \n",
       " 4                                   1  \n",
       " ...                               ...  \n",
       " 110336                              1  \n",
       " 110337                              0  \n",
       " 110338                              1  \n",
       " 110339                              0  \n",
       " 110340                              1  \n",
       " \n",
       " [110341 rows x 4 columns],\n",
       " 'headers': Index(['age_years', 'sex_0male_1female', 'episode_number',\n",
       "        'hospital_outcome_1alive_0dead'],\n",
       "       dtype='object')}"
      ]
     },
     "execution_count": 7,
     "metadata": {},
     "output_type": "execute_result"
    }
   ],
   "source": [
    "sepsis.data"
   ]
  },
  {
   "cell_type": "code",
   "execution_count": null,
   "metadata": {},
   "outputs": [],
   "source": []
  }
 ],
 "metadata": {
  "kernelspec": {
   "display_name": "Python 3 (ipykernel)",
   "language": "python",
   "name": "python3"
  }
 },
 "nbformat": 4,
 "nbformat_minor": 2
}
